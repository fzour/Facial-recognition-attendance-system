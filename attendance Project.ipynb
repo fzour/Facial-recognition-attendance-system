{
 "cells": [
  {
   "cell_type": "code",
   "execution_count": 1,
   "id": "b0f95fc7",
   "metadata": {},
   "outputs": [],
   "source": [
    "import cv2\n",
    "import numpy as np\n",
    "import face_recognition\n",
    "import mediapipe as mp\n",
    "import time\n",
    "import os\n",
    "from datetime import datetime"
   ]
  },
  {
   "cell_type": "code",
   "execution_count": 2,
   "id": "8163be6f",
   "metadata": {},
   "outputs": [
    {
     "name": "stdout",
     "output_type": "stream",
     "text": [
      "['fatima zahra.jpg', 'ihssane.jpg', 'meryem.jpg', 'mohcine.jpg']\n",
      "['fatima zahra', 'ihssane', 'meryem', 'mohcine']\n"
     ]
    }
   ],
   "source": [
    "path = 'student_images'\n",
    "images = []\n",
    "classNames = []\n",
    "mylist = os.listdir(path)\n",
    "print(mylist)\n",
    "for cl in mylist:\n",
    "    curimg = cv2.imread(f'{path}/{cl}')\n",
    "    images.append(curimg)\n",
    "    classNames.append(os.path.splitext(cl)[0])\n",
    "print(classNames)    \n"
   ]
  },
  {
   "cell_type": "code",
   "execution_count": 3,
   "id": "10b595bf",
   "metadata": {},
   "outputs": [],
   "source": [
    "def findEncodings(images):\n",
    "    encodelist = []\n",
    "    for img in images:\n",
    "        img = cv2.cvtColor(img,cv2.COLOR_BGR2RGB)\n",
    "        encode = face_recognition.face_encodings(img)[0]\n",
    "        encodelist.append(encode)\n",
    "    return encodelist"
   ]
  },
  {
   "cell_type": "code",
   "execution_count": 4,
   "id": "3c1cba1d",
   "metadata": {},
   "outputs": [],
   "source": [
    "def markAttendance(name):\n",
    "    with open('Attendance.csv','r+') as f:\n",
    "        mydatalist = f.readlines()\n",
    "        namelist = []\n",
    "        for line in mydatalist:\n",
    "            entry = line.split(',')\n",
    "            namelist.append(entry[0])\n",
    "        if name not in namelist:\n",
    "            now = datetime.now()\n",
    "            dtString = now.strftime('%H:%M:%S')\n",
    "            f.writelines(f'\\n{name},{dtString}')\n",
    "        "
   ]
  },
  {
   "cell_type": "code",
   "execution_count": 7,
   "id": "acbf930e",
   "metadata": {},
   "outputs": [
    {
     "name": "stdout",
     "output_type": "stream",
     "text": [
      "encoding complete\n"
     ]
    }
   ],
   "source": [
    "encodeListKnown = findEncodings(images)\n",
    "print('encoding complete')"
   ]
  },
  {
   "cell_type": "code",
   "execution_count": 8,
   "id": "9ef16697",
   "metadata": {},
   "outputs": [],
   "source": [
    "cap = cv2.VideoCapture(0)"
   ]
  },
  {
   "cell_type": "code",
   "execution_count": null,
   "id": "897e7a4a",
   "metadata": {},
   "outputs": [
    {
     "name": "stdout",
     "output_type": "stream",
     "text": [
      "FATIMA ZAHRA\n",
      "IHSSANE\n",
      "IHSSANE\n",
      "IHSSANE\n",
      "FATIMA ZAHRA\n",
      "FATIMA ZAHRA\n",
      "FATIMA ZAHRA\n",
      "FATIMA ZAHRA\n",
      "FATIMA ZAHRA\n",
      "FATIMA ZAHRA\n",
      "FATIMA ZAHRA\n",
      "MERYEM\n",
      "MERYEM\n",
      "FATIMA ZAHRA\n",
      "FATIMA ZAHRA\n",
      "FATIMA ZAHRA\n",
      "FATIMA ZAHRA\n",
      "FATIMA ZAHRA\n",
      "FATIMA ZAHRA\n",
      "FATIMA ZAHRA\n",
      "FATIMA ZAHRA\n",
      "FATIMA ZAHRA\n",
      "FATIMA ZAHRA\n",
      "FATIMA ZAHRA\n",
      "MERYEM\n",
      "MERYEM\n",
      "FATIMA ZAHRA\n",
      "FATIMA ZAHRA\n",
      "FATIMA ZAHRA\n",
      "FATIMA ZAHRA\n",
      "FATIMA ZAHRA\n",
      "FATIMA ZAHRA\n",
      "FATIMA ZAHRA\n",
      "FATIMA ZAHRA\n",
      "FATIMA ZAHRA\n"
     ]
    }
   ],
   "source": [
    "while True:\n",
    "    success, img = cap.read()\n",
    "    imgS =cv2.resize(img,(0,0),None,0.25,0.25)\n",
    "    imgS = cv2.cvtColor(imgS,cv2.COLOR_BGR2RGB)\n",
    "    \n",
    "    facescurframe = face_recognition.face_locations(imgS)\n",
    "    encodescurframe = face_recognition.face_encodings(imgS, facescurframe)\n",
    "    \n",
    "    for encodeface, faceloc in zip(encodescurframe,facescurframe):\n",
    "        matches = face_recognition.compare_faces(encodeListKnown,encodeface)\n",
    "        facedis = face_recognition.face_distance(encodeListKnown,encodeface)\n",
    "        \n",
    "        matchindex = np.argmin(facedis)\n",
    "        \n",
    "        if matches[matchindex]:\n",
    "            name = classNames[matchindex].upper()\n",
    "            print(name)\n",
    "            y1,x2,y2,x1 = faceloc\n",
    "            y1 ,x2, y2, x1 = y1*4, x2*4, y2*4, x1*4\n",
    "            cv2.rectangle(img,(x1,y1),(x2,y2),(0,255,0),2)\n",
    "            cv2.rectangle(img,(x1,y2-35),(x2,y2),(0,255,0),cv2.FILLED)\n",
    "            cv2.putText(img,name,(x1+6,y2-6),cv2.FONT_HERSHEY_COMPLEX,1,(255,255,255),2)\n",
    "            markAttendance(name)\n",
    "    \n",
    "    cv2.imshow('webcam',img)\n",
    "    cv2.waitKey(1)\n",
    "    "
   ]
  },
  {
   "cell_type": "code",
   "execution_count": null,
   "id": "e6c9311c",
   "metadata": {},
   "outputs": [],
   "source": []
  },
  {
   "cell_type": "code",
   "execution_count": null,
   "id": "1df4cc7c",
   "metadata": {},
   "outputs": [],
   "source": []
  },
  {
   "cell_type": "code",
   "execution_count": null,
   "id": "a80257aa",
   "metadata": {},
   "outputs": [],
   "source": []
  },
  {
   "cell_type": "code",
   "execution_count": null,
   "id": "7688e1ce",
   "metadata": {},
   "outputs": [],
   "source": []
  },
  {
   "cell_type": "code",
   "execution_count": null,
   "id": "a07625b9",
   "metadata": {},
   "outputs": [],
   "source": []
  },
  {
   "cell_type": "code",
   "execution_count": null,
   "id": "6f86b5b6",
   "metadata": {},
   "outputs": [],
   "source": []
  },
  {
   "cell_type": "code",
   "execution_count": null,
   "id": "0f92f7c5",
   "metadata": {},
   "outputs": [],
   "source": []
  },
  {
   "cell_type": "code",
   "execution_count": null,
   "id": "0d188776",
   "metadata": {},
   "outputs": [],
   "source": []
  },
  {
   "cell_type": "code",
   "execution_count": null,
   "id": "fa233cb9",
   "metadata": {},
   "outputs": [],
   "source": []
  },
  {
   "cell_type": "code",
   "execution_count": null,
   "id": "a966954e",
   "metadata": {},
   "outputs": [],
   "source": []
  }
 ],
 "metadata": {
  "kernelspec": {
   "display_name": "Python 3 (ipykernel)",
   "language": "python",
   "name": "python3"
  },
  "language_info": {
   "codemirror_mode": {
    "name": "ipython",
    "version": 3
   },
   "file_extension": ".py",
   "mimetype": "text/x-python",
   "name": "python",
   "nbconvert_exporter": "python",
   "pygments_lexer": "ipython3",
   "version": "3.10.8"
  }
 },
 "nbformat": 4,
 "nbformat_minor": 5
}
